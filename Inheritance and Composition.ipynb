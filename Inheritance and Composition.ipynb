{
 "cells": [
  {
   "cell_type": "markdown",
   "metadata": {},
   "source": [
    "Code cells below provides some examples for inheritance in python. How we can reduce number of lines in code and can write modular codes using classes in python."
   ]
  },
  {
   "cell_type": "code",
   "execution_count": 1,
   "metadata": {},
   "outputs": [],
   "source": [
    "class Book:\n",
    "    def __init__(self,title,author,pages,price):\n",
    "        self.title = title\n",
    "        self.author = author\n",
    "        self.pages = pages\n",
    "        self.price = price\n",
    "        \n",
    "class Magazine:\n",
    "    def __init__(self,title,publisher,price, period):\n",
    "        self.title = title\n",
    "        self.publisher = publisher\n",
    "        self.price = price\n",
    "        self.period = period\n",
    "        \n",
    "class Newspaper:\n",
    "    def __init__(self,title,publisher,price,period):\n",
    "        self.title = title\n",
    "        self.publisher = publisher\n",
    "        self.price = price\n",
    "        self.period = period"
   ]
  },
  {
   "cell_type": "markdown",
   "metadata": {},
   "source": [
    "Lets define a new base class Publication that functionality that is common for all the classes. We will extend or inherit other classes from this class"
   ]
  },
  {
   "cell_type": "code",
   "execution_count": 3,
   "metadata": {},
   "outputs": [],
   "source": [
    "class Publication:\n",
    "    def __init__(self,title,price):\n",
    "        self.title = title\n",
    "        self.price = price\n",
    "        \n",
    "class Book(Publication):\n",
    "    def __init__(self,title,author,pages,price):\n",
    "        super().__init__(title,price)\n",
    "        self.author = author\n",
    "        self.pages = pages\n",
    "        "
   ]
  },
  {
   "cell_type": "code",
   "execution_count": 7,
   "metadata": {},
   "outputs": [],
   "source": [
    "class Periodical(Publication):\n",
    "    def __init__(self,title,publisher,price, period):\n",
    "        super().__init__(title,price)\n",
    "        self.publisher = publisher\n",
    "        self.period = period\n",
    "    \n",
    "class Magazine(Periodical):\n",
    "    def __init__(self,title,publisher,price, period):\n",
    "        super().__init__(title,publisher,price, period)\n",
    "\n",
    "class Newspaper(Periodical):\n",
    "    def __init__(self,title,publisher,price, period):\n",
    "        super().__init__(title,publisher,price, period)"
   ]
  },
  {
   "cell_type": "markdown",
   "metadata": {},
   "source": [
    "Abstract Base Classes - Such which can't be instantiated. These classes are used only for a blueprint and contains an abstract method that needs to be overridden in the child class. once an abstract method in defined in the base class it cannot be instantiated"
   ]
  },
  {
   "cell_type": "code",
   "execution_count": 14,
   "metadata": {},
   "outputs": [],
   "source": [
    "from abc import ABC,abstractmethod\n",
    "\n",
    "class GraphicShape(ABC):\n",
    "    def __init__(self):\n",
    "        super().__init__()\n",
    "    \n",
    "    @abstractmethod\n",
    "    def calArea(self):\n",
    "        pass\n",
    "    \n",
    "class Circle(GraphicShape):\n",
    "    def __init__(self,radius):\n",
    "        self.radius = radius\n",
    "        \n",
    "    def calArea(self):\n",
    "        return 3.14 * (self.radius**2)\n",
    "    \n",
    "class Square(GraphicShape):\n",
    "    def __init__(self,side):\n",
    "        self.side = side\n",
    "        \n",
    "    def calArea(self):\n",
    "        return self.side**2\n",
    "    "
   ]
  },
  {
   "cell_type": "code",
   "execution_count": 15,
   "metadata": {},
   "outputs": [
    {
     "ename": "TypeError",
     "evalue": "Can't instantiate abstract class GraphicShape with abstract methods calArea",
     "output_type": "error",
     "traceback": [
      "\u001b[1;31m---------------------------------------------------------------------------\u001b[0m",
      "\u001b[1;31mTypeError\u001b[0m                                 Traceback (most recent call last)",
      "\u001b[1;32m<ipython-input-15-d3495f8b7822>\u001b[0m in \u001b[0;36m<module>\u001b[1;34m()\u001b[0m\n\u001b[1;32m----> 1\u001b[1;33m \u001b[0mx\u001b[0m \u001b[1;33m=\u001b[0m \u001b[0mGraphicShape\u001b[0m\u001b[1;33m(\u001b[0m\u001b[1;33m)\u001b[0m\u001b[1;33m\u001b[0m\u001b[0m\n\u001b[0m",
      "\u001b[1;31mTypeError\u001b[0m: Can't instantiate abstract class GraphicShape with abstract methods calArea"
     ]
    }
   ],
   "source": [
    "#This will throw an error\n",
    "#TypeError: Can't instantiate abstract class GraphicShape with abstract methods calArea\n",
    "# x = GraphicShape()"
   ]
  },
  {
   "cell_type": "code",
   "execution_count": 17,
   "metadata": {},
   "outputs": [
    {
     "data": {
      "text/plain": [
       "1384.74"
      ]
     },
     "execution_count": 17,
     "metadata": {},
     "output_type": "execute_result"
    }
   ],
   "source": [
    "x = Circle(21)\n",
    "x.calArea()"
   ]
  },
  {
   "cell_type": "markdown",
   "metadata": {},
   "source": [
    "Multiple Inheritance and Method Resolution Order - Tells which class resolved or called first in order"
   ]
  },
  {
   "cell_type": "code",
   "execution_count": 20,
   "metadata": {},
   "outputs": [],
   "source": [
    "class A:\n",
    "    def __init__(self):\n",
    "        super().__init__()\n",
    "        self.foo = 'foo'\n",
    "        self.name = 'Class A'\n",
    "        \n",
    "class B:\n",
    "    def __init__(self):\n",
    "        super().__init__()\n",
    "        self.bar = 'bar'\n",
    "        self.name = 'Class B'\n",
    "        \n",
    "class C(A,B):\n",
    "    def __init__(self):\n",
    "        super().__init__()\n",
    "        \n",
    "    def showMembers(self):\n",
    "        print(self.foo)\n",
    "        print(self.bar)\n",
    "        print(self.name)"
   ]
  },
  {
   "cell_type": "code",
   "execution_count": 21,
   "metadata": {},
   "outputs": [
    {
     "name": "stdout",
     "output_type": "stream",
     "text": [
      "foo\n",
      "bar\n",
      "Class A\n"
     ]
    }
   ],
   "source": [
    "c = C()\n",
    "c.showMembers()"
   ]
  },
  {
   "cell_type": "code",
   "execution_count": 22,
   "metadata": {},
   "outputs": [
    {
     "data": {
      "text/plain": [
       "(__main__.C, __main__.A, __main__.B, object)"
      ]
     },
     "execution_count": 22,
     "metadata": {},
     "output_type": "execute_result"
    }
   ],
   "source": [
    "C.__mro__"
   ]
  },
  {
   "cell_type": "code",
   "execution_count": null,
   "metadata": {},
   "outputs": [],
   "source": []
  }
 ],
 "metadata": {
  "kernelspec": {
   "display_name": "Python 3",
   "language": "python",
   "name": "python3"
  },
  "language_info": {
   "codemirror_mode": {
    "name": "ipython",
    "version": 3
   },
   "file_extension": ".py",
   "mimetype": "text/x-python",
   "name": "python",
   "nbconvert_exporter": "python",
   "pygments_lexer": "ipython3",
   "version": "3.6.5"
  }
 },
 "nbformat": 4,
 "nbformat_minor": 2
}
