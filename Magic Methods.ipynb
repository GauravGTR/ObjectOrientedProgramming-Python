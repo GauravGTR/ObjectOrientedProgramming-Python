{
 "cells": [
  {
   "cell_type": "markdown",
   "metadata": {},
   "source": [
    "Below code cells give examples of using Magic Methods and how they compare to the classes when not used"
   ]
  },
  {
   "cell_type": "code",
   "execution_count": 2,
   "metadata": {
    "scrolled": true
   },
   "outputs": [
    {
     "name": "stdout",
     "output_type": "stream",
     "text": [
      "<__main__.Book object at 0x00000254C9BCD438>\n"
     ]
    }
   ],
   "source": [
    "class Book:\n",
    "    def __init__(self,title,author,pages,price):\n",
    "        self.title = title\n",
    "        self.author = author\n",
    "        self.pages = pages\n",
    "        self.price = price\n",
    "        \n",
    "b1 = Book('Python','Gaurav Yadav',500,200)\n",
    "print(b1)"
   ]
  },
  {
   "cell_type": "markdown",
   "metadata": {},
   "source": [
    "Below cell shows implementation of two Magic functions __str__() and __repr__(). Both seems similar functionality but repr is mainly for the developers while __str__() is for users."
   ]
  },
  {
   "cell_type": "code",
   "execution_count": 8,
   "metadata": {
    "scrolled": true
   },
   "outputs": [
    {
     "name": "stdout",
     "output_type": "stream",
     "text": [
      "Python by Gaurav Yadav has 500 pages and costs Rs 200\n",
      "Python by Gaurav Yadav has 500 pages and costs Rs 200\n",
      "title = Python, Author = Gaurav Yadav\n"
     ]
    }
   ],
   "source": [
    "class Book:\n",
    "    def __init__(self,title,author,pages,price):\n",
    "        self.title = title\n",
    "        self.author = author\n",
    "        self.pages = pages\n",
    "        self.price = price\n",
    "    \n",
    "    def __str__(self):\n",
    "        return f\"{self.title} by {self.author} has {self.pages} pages and costs Rs {self.price}\"\n",
    "    \n",
    "    def __repr__(self):\n",
    "        return f\"title = {self.title}, Author = {self.author}\"\n",
    "        \n",
    "b1 = Book('Python','Gaurav Yadav',500,200)\n",
    "print(b1)\n",
    "print(str(b1))\n",
    "print(repr(b1))"
   ]
  },
  {
   "cell_type": "markdown",
   "metadata": {},
   "source": [
    "Below cells shows what happens when we compare two objects from the same class"
   ]
  },
  {
   "cell_type": "code",
   "execution_count": 11,
   "metadata": {},
   "outputs": [
    {
     "name": "stdout",
     "output_type": "stream",
     "text": [
      "False\n",
      "False\n"
     ]
    }
   ],
   "source": [
    "class Book:\n",
    "    def __init__(self,title,author,pages,price):\n",
    "        self.title = title\n",
    "        self.author = author\n",
    "        self.pages = pages\n",
    "        self.price = price\n",
    "    \n",
    "    def __str__(self):\n",
    "        return f\"{self.title} by {self.author} has {self.pages} pages and costs Rs {self.price}\"\n",
    "    \n",
    "    def __repr__(self):\n",
    "        return f\"title = {self.title}, Author = {self.author}\"\n",
    "    \n",
    "b1 = Book('Python','Gaurav Yadav',500,200)\n",
    "b2 = Book('Machine Learning','Gaurav Yadav',600,500)\n",
    "b3 = Book('Python','Gaurav Yadav',500,200)\n",
    "b4 = Book('Deep Learning','Gaurav Yadav',800,700)\n",
    "\n",
    "print(b1 == b2)\n",
    "print(b1 == b3)"
   ]
  },
  {
   "cell_type": "code",
   "execution_count": 18,
   "metadata": {},
   "outputs": [
    {
     "name": "stdout",
     "output_type": "stream",
     "text": [
      "False\n",
      "True\n",
      "True\n",
      "False\n",
      "[200, 200, 500, 700]\n"
     ]
    }
   ],
   "source": [
    "class Book:\n",
    "    def __init__(self,title,author,pages,price):\n",
    "        self.title = title\n",
    "        self.author = author\n",
    "        self.pages = pages\n",
    "        self.price = price\n",
    "    \n",
    "    def __str__(self):\n",
    "        return f\"{self.title} by {self.author} has {self.pages} pages and costs Rs {self.price}\"\n",
    "    \n",
    "    def __repr__(self):\n",
    "        return f\"title = {self.title}, Author = {self.author}\"\n",
    "    \n",
    "    def __eq__(self,value):\n",
    "        if not isinstance(value, Book):\n",
    "            raise ValueError(\"Can't compare different types of objects\")\n",
    "        return (self.title == value.title and self.author == value.author and self.pages == value.pages\n",
    "               and self.price == value.price)\n",
    "    \n",
    "    def __ge__(self,value):\n",
    "        if not isinstance(value, Book):\n",
    "            raise ValueError(\"Can't compare different types of objects\")\n",
    "            \n",
    "        return self.price >= value.price\n",
    "    \n",
    "    def __lt__(self,value):\n",
    "        if not isinstance(value, Book):\n",
    "            raise ValueError(\"Can't compare different types of objects\")\n",
    "            \n",
    "        return self.price < value.price\n",
    "    \n",
    "b1 = Book('Python','Gaurav Yadav',500,200)\n",
    "b2 = Book('Machine Learning','Gaurav Yadav',600,500)\n",
    "b3 = Book('Python','Gaurav Yadav',500,200)\n",
    "b4 = Book('Deep Learning','Gaurav Yadav',800,700)\n",
    "\n",
    "print(b1 == b2)\n",
    "print(b1 == b3)\n",
    "print(b1 < b2)\n",
    "print(b1 >= b4)\n",
    "\n",
    "\n",
    "#this also helps to use inbuilt sort function as shown\n",
    "\n",
    "books = [b1,b4,b2,b3]\n",
    "books.sort()\n",
    "print([book.price for book in books])"
   ]
  },
  {
   "cell_type": "code",
   "execution_count": 46,
   "metadata": {},
   "outputs": [],
   "source": [
    "class Book:\n",
    "    def __init__(self,title,author,pages,price):\n",
    "        self.title = title\n",
    "        self.author = author\n",
    "        self.pages = pages\n",
    "        self.price = price\n",
    "        self._discount = 0.1\n",
    "        \n",
    "    #Whenever we retrieve any attribute from the object __getattribute__() method is automatically called.   \n",
    "    #Don't called attribute directly as it will cause an infinite loop.\n",
    "    def __getattribute__(self,name):\n",
    "        if name == 'price':\n",
    "            p = super().__getattribute__('price')\n",
    "            d = super().__getattribute__('_discount')\n",
    "            return p - (p*d)\n",
    "        return super().__getattribute__(name)\n",
    "        \n",
    "    #this is called by default to set values to attributes\n",
    "    def __setattr__(self,name,value):\n",
    "        if name == '_discount':\n",
    "            if type(value) is not float:\n",
    "                raise ValueError('The Discount should be a float')\n",
    "        return super().__setattr__(name,value)\n",
    "        \n",
    "#     #this is called when lookup for getattribute fails.\n",
    "    def __getattr__(self,name):\n",
    "        return name + \" is not an attribute of this class\"\n",
    "    \n",
    "    def giveMePrice(self):\n",
    "        print(self.price)"
   ]
  },
  {
   "cell_type": "code",
   "execution_count": 48,
   "metadata": {},
   "outputs": [
    {
     "name": "stdout",
     "output_type": "stream",
     "text": [
      "180.0\n",
      "160.0\n",
      "publisher is not an attribute of this class\n",
      "160.0\n"
     ]
    }
   ],
   "source": [
    "b1 = Book('Python','Gaurav Yadav',500,200)\n",
    "print(b1.price)\n",
    "#this will raise ValueError\n",
    "# b1.discount = 12\n",
    "b1._discount = .2\n",
    "print(b1.price)\n",
    "print(b1.publisher)\n",
    "b1.giveMePrice()"
   ]
  },
  {
   "cell_type": "code",
   "execution_count": null,
   "metadata": {},
   "outputs": [],
   "source": []
  }
 ],
 "metadata": {
  "kernelspec": {
   "display_name": "Python 3",
   "language": "python",
   "name": "python3"
  },
  "language_info": {
   "codemirror_mode": {
    "name": "ipython",
    "version": 3
   },
   "file_extension": ".py",
   "mimetype": "text/x-python",
   "name": "python",
   "nbconvert_exporter": "python",
   "pygments_lexer": "ipython3",
   "version": "3.6.5"
  }
 },
 "nbformat": 4,
 "nbformat_minor": 2
}
